{
  "nbformat": 4,
  "nbformat_minor": 0,
  "metadata": {
    "colab": {
      "name": "Chatbot.ipynb",
      "provenance": [],
      "collapsed_sections": [],
      "include_colab_link": true
    },
    "kernelspec": {
      "name": "python3",
      "display_name": "Python 3"
    },
    "language_info": {
      "name": "python"
    }
  },
  "cells": [
    {
      "cell_type": "markdown",
      "metadata": {
        "id": "view-in-github",
        "colab_type": "text"
      },
      "source": [
        "<a href=\"https://colab.research.google.com/github/subash2617/simple_chatbot/blob/main/Chatbot.ipynb\" target=\"_parent\"><img src=\"https://colab.research.google.com/assets/colab-badge.svg\" alt=\"Open In Colab\"/></a>"
      ]
    },
    {
      "cell_type": "code",
      "metadata": {
        "id": "aNagIu8UWakI"
      },
      "source": [
        "pip install chatterbot"
      ],
      "execution_count": null,
      "outputs": []
    },
    {
      "cell_type": "code",
      "metadata": {
        "id": "KZbvOYYtXlWC"
      },
      "source": [
        "from chatterbot import ChatBot\n",
        "from chatterbot.trainers import ListTrainer"
      ],
      "execution_count": 2,
      "outputs": []
    },
    {
      "cell_type": "code",
      "metadata": {
        "id": "iLw3Lhn0Ytn0"
      },
      "source": [
        "mybot = ChatBot(name='Friday', read_only= True, logic_adapters=['chatterbot.logic.MathematicalEvaluation', 'chatterbot.logic.BestMatch'])"
      ],
      "execution_count": 3,
      "outputs": []
    },
    {
      "cell_type": "code",
      "metadata": {
        "id": "M_Wd-3vZaRvr"
      },
      "source": [
        "normal_chat = ['hi', 'hey', 'hey there!', 'how are you ?', 'i\\'m cool.', 'fine, you?', 'always cool.', 'i\\'m ok', 'glad to hear that.', 'i feel awsome', 'excellent, glad to hear that.', 'not so good', 'not well', 'sorry to hear that.', 'what\\'s your name?', 'i\\'m Friday. how may help you?', 'Thank you']\n",
        "math_chat1 = ['Pythagorean theorem', 'a square plus b square is equals to c square.']\n",
        "math_chat2 = ['area of the triangle', ' the area A of a triangle is given by the formula A=12bh']\n",
        "math_chat3 = ['Area of a Rectangle', 'the product of its length and width or breadth .']"
      ],
      "execution_count": 4,
      "outputs": []
    },
    {
      "cell_type": "code",
      "metadata": {
        "id": "MUzKMTEdeKxB"
      },
      "source": [
        "list_train = ListTrainer(mybot)\n",
        "\n",
        "for item in (normal_chat, math_chat1, math_chat2, math_chat3):\n",
        "  list_train.train(item)"
      ],
      "execution_count": null,
      "outputs": []
    },
    {
      "cell_type": "code",
      "metadata": {
        "id": "9FLgiMSlezQO",
        "colab": {
          "base_uri": "https://localhost:8080/"
        },
        "outputId": "0d250a86-fbf5-43f5-ccfb-75af9b6a1f9e"
      },
      "source": [
        "human = input()\n",
        "print(mybot.get_response(human))"
      ],
      "execution_count": 7,
      "outputs": [
        {
          "output_type": "stream",
          "text": [
            "i feel awsome today\n",
            "excellent, glad to hear that.\n"
          ],
          "name": "stdout"
        }
      ]
    }
  ]
}